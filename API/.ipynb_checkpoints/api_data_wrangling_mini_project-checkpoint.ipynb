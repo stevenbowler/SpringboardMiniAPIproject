{
 "cells": [
  {
   "cell_type": "markdown",
   "metadata": {},
   "source": [
    "This exercise will require you to pull some data from the Qunadl API. Qaundl is currently the most widely used aggregator of financial market data."
   ]
  },
  {
   "cell_type": "markdown",
   "metadata": {},
   "source": [
    "As a first step, you will need to register a free account on the http://www.quandl.com website."
   ]
  },
  {
   "cell_type": "markdown",
   "metadata": {},
   "source": [
    "After you register, you will be provided with a unique API key, that you should store:"
   ]
  },
  {
   "cell_type": "code",
   "execution_count": 1,
   "metadata": {},
   "outputs": [],
   "source": [
    "# Store the API key as a string - according to PEP8, constants are always named in all upper case\n",
    "QUANDL_API_KEY = 'x9Dx5vbhEG1oKxUtVnbm'"
   ]
  },
  {
   "cell_type": "markdown",
   "metadata": {},
   "source": [
    "Qaundl has a large number of data sources, but, unfortunately, most of them require a Premium subscription. Still, there are also a good number of free datasets."
   ]
  },
  {
   "cell_type": "markdown",
   "metadata": {},
   "source": [
    "For this mini project, we will focus on equities data from the Frankfurt Stock Exhange (FSE), which is available for free. We'll try and analyze the stock prices of a company called Carl Zeiss Meditec, which manufactures tools for eye examinations, as well as medical lasers for laser eye surgery: https://www.zeiss.com/meditec/int/home.html. The company is listed under the stock ticker AFX_X."
   ]
  },
  {
   "cell_type": "markdown",
   "metadata": {},
   "source": [
    "You can find the detailed Quandl API instructions here: https://docs.quandl.com/docs/time-series"
   ]
  },
  {
   "cell_type": "markdown",
   "metadata": {},
   "source": [
    "While there is a dedicated Python package for connecting to the Quandl API, we would prefer that you use the *requests* package, which can be easily downloaded using *pip* or *conda*. You can find the documentation for the package here: http://docs.python-requests.org/en/master/ "
   ]
  },
  {
   "cell_type": "markdown",
   "metadata": {},
   "source": [
    "Finally, apart from the *requests* package, you are encouraged to not use any third party Python packages, such as *pandas*, and instead focus on what's available in the Python Standard Library (the *collections* module might come in handy: https://pymotw.com/3/collections/ ).\n",
    "Also, since you won't have access to DataFrames, you are encouraged to us Python's native data structures - preferably dictionaries, though some questions can also be answered using lists.\n",
    "You can read more on these data structures here: https://docs.python.org/3/tutorial/datastructures.html"
   ]
  },
  {
   "cell_type": "markdown",
   "metadata": {},
   "source": [
    "Keep in mind that the JSON responses you will be getting from the API map almost one-to-one to Python's dictionaries. Unfortunately, they can be very nested, so make sure you read up on indexing dictionaries in the documentation provided above."
   ]
  },
  {
   "cell_type": "code",
   "execution_count": 2,
   "metadata": {},
   "outputs": [],
   "source": [
    "# First, import the relevant modules\n",
    "import requests\n",
    "\n"
   ]
  },
  {
   "cell_type": "code",
   "execution_count": 6,
   "metadata": {},
   "outputs": [],
   "source": [
    "# Now, call the Quandl API and pull out a small sample of the data (only one day) to get a glimpse\n",
    "# into the JSON structure that will be returned\n",
    "url = 'https://www.quandl.com/api/v3/datasets/WIKI/FB/data.json?api_key=' + QUANDL_API_KEY\n",
    "url2 = 'https://www.quandl.com/api/v3/datasets/FSE/AFX_X/data.json?api_key=x9Dx5vbhEG1oKxUtVnbm&start_date=2017-01-01&end_date=2017-12-31'\n",
    "r= requests.get(url2)"
   ]
  },
  {
   "cell_type": "code",
   "execution_count": 7,
   "metadata": {},
   "outputs": [],
   "source": [
    "# Inspect the JSON structure of the object you created, and take note of how nested it is,\n",
    "# as well as the overall structure\n",
    "json_data = r.json()"
   ]
  },
  {
   "cell_type": "code",
   "execution_count": 33,
   "metadata": {},
   "outputs": [],
   "source": [
    "# print(json_data['dataset_data']['column_names'])\n",
    "\n",
    "# extract column names from response  (only want Date, High, Low, Close)\n",
    "FXA_A_columns = json_data['dataset_data']['column_names']  # create list of column names\n",
    "# print(FXA_A_columns)\n",
    "\n",
    "# extract stock price data from response\n",
    "FXA_A_data = json_data['dataset_data']['data']\n",
    "# print(FXA_A_data)\n",
    "\n",
    "FXA_A_list=[]\n",
    "\n",
    "for day_list in FXA_A_data:\n",
    "        day_object = dict(zip(FXA_A_columns,day_list))\n",
    "        FXA_A_list.append(day_object)"
   ]
  },
  {
   "cell_type": "code",
   "execution_count": 94,
   "metadata": {},
   "outputs": [
    {
     "name": "stdout",
     "output_type": "stream",
     "text": [
      "min open:  34.0 \n",
      "max_open:  53.11\n"
     ]
    }
   ],
   "source": [
    "# find min and max open values\n",
    "max_open = 0.0\n",
    "min_open = 100.0\n",
    "\n",
    "for FXA_A_day in FXA_A_list:\n",
    "    if FXA_A_day['Open'] is None:\n",
    "        FXA_A_day['Open'] = max_open\n",
    "    if FXA_A_day['Open'] > max_open:\n",
    "        max_open = FXA_A_day['Open']\n",
    "    if FXA_A_day['Open'] < min_open:\n",
    "        min_open = FXA_A_day['Open']\n",
    "        \n",
    "print('min open: ', min_open, '\\nmax_open: ', max_open)"
   ]
  },
  {
   "cell_type": "code",
   "execution_count": 142,
   "metadata": {},
   "outputs": [
    {
     "name": "stdout",
     "output_type": "stream",
     "text": [
      "Maximum daily price delta:  2.81\n"
     ]
    }
   ],
   "source": [
    "# biggest change in any given day\n",
    "max_daily_delta = 0\n",
    "\n",
    "for FXA_A_day in FXA_A_list:\n",
    "    delta = FXA_A_day['High'] - FXA_A_day['Low']\n",
    "    if delta > max_daily_delta:\n",
    "        max_daily_delta = delta\n",
    "        \n",
    "print(f'Maximum daily price delta: ', format(max_daily_delta,'.2f'))\n"
   ]
  },
  {
   "cell_type": "code",
   "execution_count": 144,
   "metadata": {},
   "outputs": [
    {
     "name": "stdout",
     "output_type": "stream",
     "text": [
      "Maximum day-to-day closing price delta:  17.70\n"
     ]
    }
   ],
   "source": [
    "# biggest change in close price from one day to the next\n",
    "last_close=0\n",
    "max_delta_close = 0\n",
    "for FXA_A_day in FXA_A_list:\n",
    "    if last_close == 0:\n",
    "        last_close = FXA_A_day['Close']\n",
    "    else:\n",
    "        delta_close = abs(FXA_A_day['Close'] - last_close)\n",
    "        if delta_close > max_delta_close:\n",
    "            max_delta_close = delta_close\n",
    "\n",
    "print(f'Maximum day-to-day closing price delta: ', format(max_delta_close,'.2f'))        "
   ]
  },
  {
   "cell_type": "code",
   "execution_count": 143,
   "metadata": {},
   "outputs": [
    {
     "name": "stdout",
     "output_type": "stream",
     "text": [
      "mean daily trading volume 89,124\n"
     ]
    }
   ],
   "source": [
    "total=0\n",
    "for FXA_A_day in FXA_A_list:\n",
    "    total += FXA_A_day['Traded Volume']\n",
    "    \n",
    "FXA_A_mean = total/len(FXA_A_list)\n",
    "print(f'mean daily trading volume', format(FXA_A_mean,',.0f'))"
   ]
  },
  {
   "cell_type": "code",
   "execution_count": 165,
   "metadata": {},
   "outputs": [
    {
     "name": "stdout",
     "output_type": "stream",
     "text": [
      "Median Trading Volume:  76,600\n"
     ]
    }
   ],
   "source": [
    "FXA_A_volumes = []\n",
    "for FXA_A_day in FXA_A_list:\n",
    "    FXA_A_volumes.append(FXA_A_day['Traded Volume'])\n",
    "\n",
    "FXA_A_volumes.sort()\n",
    "FXA_A_volume_median = FXA_A_volumes[round(len(FXA_A_volumes)/2)]\n",
    "print(f'Median Trading Volume: ', format(FXA_A_volume_median,',.0f'))"
   ]
  },
  {
   "cell_type": "markdown",
   "metadata": {},
   "source": [
    "These are your tasks for this mini project:\n",
    "\n",
    "1. Collect data from the Franfurt Stock Exchange, for the ticker AFX_X, for the whole year 2017 (keep in mind that the date format is YYYY-MM-DD).\n",
    "2. Convert the returned JSON object into a Python dictionary.\n",
    "3. Calculate what the highest and lowest opening prices were for the stock in this period.\n",
    "4. What was the largest change in any one day (based on High and Low price)?\n",
    "5. What was the largest change between any two days (based on Closing Price)?\n",
    "6. What was the average daily trading volume during this year?\n",
    "7. (Optional) What was the median trading volume during this year. (Note: you may need to implement your own function for calculating the median.)"
   ]
  },
  {
   "cell_type": "code",
   "execution_count": null,
   "metadata": {
    "collapsed": true
   },
   "outputs": [],
   "source": []
  }
 ],
 "metadata": {
  "kernelspec": {
   "display_name": "Python 3",
   "language": "python",
   "name": "python3"
  },
  "language_info": {
   "codemirror_mode": {
    "name": "ipython",
    "version": 3
   },
   "file_extension": ".py",
   "mimetype": "text/x-python",
   "name": "python",
   "nbconvert_exporter": "python",
   "pygments_lexer": "ipython3",
   "version": "3.8.3"
  }
 },
 "nbformat": 4,
 "nbformat_minor": 2
}
